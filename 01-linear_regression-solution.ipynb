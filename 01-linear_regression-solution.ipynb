{
 "cells": [
  {
   "cell_type": "code",
   "execution_count": 1,
   "metadata": {},
   "outputs": [],
   "source": [
    "import numpy as np\n",
    "import pandas as pd\n",
    "import matplotlib.pyplot as plt\n",
    "import lrutils\n",
    "from lrutils import generate_data, plot_abline\n",
    "%matplotlib inline\n"
   ]
  },
  {
   "cell_type": "markdown",
   "metadata": {},
   "source": [
    "# Multivariate Linear Regression\n",
    "\n",
    "## Quick refresher\n",
    "\n",
    "The general form of a multivariate regression is\n",
    "\n",
    "$$\n",
    "y \\approx w_{0} +\n",
    "w_{1} x_{1} + w_{2} x_{2} + \\cdots + w_{p}x_p\n",
    "$$\n",
    "\n",
    "where $y$ is the response vector and $x_{1},…,x_{p}$ are the features (covariates). \n",
    "Each of the predictor variables must be numerical. \n",
    "The parameters (coefficients) $w_0,…,w_p$ correspond to the *effect* of each feature after taking account of the effect of all other features in the model. \n",
    "\n",
    "It is convenient to write this in matrix form where all the values of the forecast variable are given in a single equation. \n",
    "\n",
    "$$\n",
    "X = \\left[\\begin{matrix} 1 & x_{1,1} & x_{2,1} & \\dots & x_{p,1}\\\\ 1 & x_{1,2} & x_{2,2} & \\dots & x_{p,2}\\\\ \\vdots & \\vdots & \\vdots & & \\vdots\\\\ 1 & x_{1,n} & x_{2,n} & \\dots & x_{p,n} \\end{matrix}\\right].\n",
    "$$\n",
    "\n",
    "The first column correspond to the intercept ($w_0$) which does not multiply a feature.\n",
    "\n",
    "The problem then becomes one of finding $w\\in\\mathbb R^p$ such that $y\\approx Xw$ or such that\n",
    "\n",
    "$$ L(w) \\quad\\!\\!=\\quad\\!\\! \\|y - Xw\\|_2^2 $$\n",
    "\n",
    "is minimized."
   ]
  },
  {
   "cell_type": "markdown",
   "metadata": {},
   "source": [
    "----------------------"
   ]
  },
  {
   "cell_type": "markdown",
   "metadata": {},
   "source": [
    "## Exercises"
   ]
  },
  {
   "cell_type": "markdown",
   "metadata": {},
   "source": [
    "In what follows, we will make use of the following material, covered in Module 1:\n",
    "\n",
    "* Python functions\n",
    "* Linear algebra: norms, and matrix products.\n",
    "* Optimization (gradient descent).\n",
    "\n"
   ]
  },
  {
   "cell_type": "markdown",
   "metadata": {},
   "source": [
    "We will work on a simple dataset with two variables $x$ and $y$. Have a look at the data (e.g. using a scatterplot)."
   ]
  },
  {
   "cell_type": "code",
   "execution_count": 2,
   "metadata": {
    "scrolled": true
   },
   "outputs": [],
   "source": [
    "# load the data\n",
    "np.random.seed(1000)\n",
    "x, y = generate_data(200)"
   ]
  },
  {
   "cell_type": "code",
   "execution_count": 3,
   "metadata": {},
   "outputs": [
    {
     "data": {
      "image/png": "[encoded data removed]",
      "text/plain": [
       "<Figure size 432x288 with 1 Axes>"
      ]
     },
     "metadata": {
      "needs_background": "light"
     },
     "output_type": "display_data"
    }
   ],
   "source": [
    "plt.scatter(x, y);"
   ]
  },
  {
   "cell_type": "markdown",
   "metadata": {},
   "source": [
    "##### Step 1: Initialise\n",
    "1\\. First initialise $w$ to any array of size $2$.\n",
    "\n",
    "2\\. As explained above, the convention in linear regression is to remove the constant term from the model and make the first column of the data matrix a column of 1s.\n",
    "\n",
    "Using `numpy`, concatenate a column of ones to the data matrix $X$\n",
    "\n",
    "$ X \\leftarrow [\\mathbf{1}\\,\\,\\, X] $\n",
    "\n",
    "<br>\n",
    "<br>\n",
    "Hints for part (2):\n",
    "* First construct a $200 \\times 1$ array of ones. See: `np.ones`\n",
    "* Then concatenate the columns together using `np.hstack`\n",
    "* Both these functions take an argument of tuples, so you'll need to use two sets of brackets.\n",
    "\n",
    "\n"
   ]
  },
  {
   "cell_type": "code",
   "execution_count": 9,
   "metadata": {},
   "outputs": [],
   "source": [
    "w = ...\n",
    "\n",
    "X = ...\n",
    "\n",
    "w = np.array([0., 0.])\n",
    "\n",
    "X = np.hstack((np.ones((200, 1)), x))\n"
   ]
  },
  {
   "cell_type": "markdown",
   "metadata": {},
   "source": [
    "##### Step 2: Predicted Values\n",
    "Create a function that outputs the predicted values $\\hat{y}$ given the current value of $w$.\n",
    "\n",
    "Recall that $\\hat{y} = Xw$"
   ]
  },
  {
   "cell_type": "code",
   "execution_count": 10,
   "metadata": {},
   "outputs": [],
   "source": [
    "def predicted_values(w, X):\n",
    "    # calculate y_pred\n",
    "    y_pred = X @ w\n",
    "    \n",
    "    return y_pred"
   ]
  },
  {
   "cell_type": "markdown",
   "metadata": {},
   "source": [
    "##### Step 3: Loss Function\n",
    "Create a function that calulates the current loss of our predictions $\\hat{y} = Xw$ using the squared $L_2$ norm."
   ]
  },
  {
   "cell_type": "code",
   "execution_count": 11,
   "metadata": {},
   "outputs": [],
   "source": [
    "def loss_function(w, X, y):\n",
    "    # calculate the residual r = y_hat - y\n",
    "    y_hat = predicted_values(w, X)\n",
    "    r = y - y_hat\n",
    "    \n",
    "    \n",
    "    # calculate the squared norm, or the sum of squares of `r`.\n",
    "    # You can code this directly, or use the norm functions\n",
    "    # discussed in module 1.\n",
    "    loss = np.linalg.norm(r)**2\n",
    "    \n",
    "    return loss"
   ]
  },
  {
   "cell_type": "markdown",
   "metadata": {},
   "source": [
    "##### Step 4: Gradient\n",
    "Recall that the gradient of our function is (after some algebraic manipulation):\n",
    "\n",
    "$$ \\nabla_w L \\quad\\!\\!=\\quad\\!\\! -X^T (y - Xw) \\quad\\!\\!=\\quad\\!\\! -X^T r $$\n",
    "\n",
    "for residuals $r$. Create a function that returns the gradient for a given value of $w$ (and $X$ and $y$).\n"
   ]
  },
  {
   "cell_type": "code",
   "execution_count": 12,
   "metadata": {},
   "outputs": [],
   "source": [
    "def gradient(w, X, y):\n",
    "    ...\n",
    "    y_hat = predicted_values(w, X)\n",
    "    r = y - y_hat\n",
    "    grad = -X.T @ r\n",
    "    return grad"
   ]
  },
  {
   "cell_type": "markdown",
   "metadata": {},
   "source": [
    "##### Step 5: Optimise!\n",
    "Using the SimpleGD function from Module 1, perform 1000 steps of gradient descent and plot the evolution of the function values returned.\n",
    "\n",
    "We've included a slightly modified version of the gradient descent function as we are now performing optimisation of a *vector* quantity rather than a scalar quantity, and we will just return the final value of the variable rather than all the intermediate ones.\n",
    "\n",
    "We recommend using a very small step size to begin with: try $\\gamma = 10^{-6}$.\n",
    "\n",
    "Hint: if your loss increases towards $\\infty$, try resetting $w$ and reducing the stepsize.\n",
    "\n",
    "<span style=\"color:red\"><b>Warning: If you have generated data with n > 200, you will need to decrease the step size from our recommendation, perhaps significantly.</b></span>"
   ]
  },
  {
   "cell_type": "code",
   "execution_count": 13,
   "metadata": {},
   "outputs": [],
   "source": [
    "# Modified simpleGD function\n",
    "def simpleGD(x0, f, g, gamma, nr_steps):\n",
    "    history = np.zeros(nr_steps+1)\n",
    "    history[0] = f(x0)\n",
    "    x = x0\n",
    "    for ii in range(nr_steps):\n",
    "        # this formulation amounts to writing x = x - stepsize*g(x)\n",
    "        x -= gamma*g(x)\n",
    "        history[ii+1] = f(x)\n",
    "    return x, history"
   ]
  },
  {
   "cell_type": "code",
   "execution_count": 14,
   "metadata": {},
   "outputs": [],
   "source": [
    "# create versions of your loss and gradient functions that only require `w` as an input\n",
    "# (hint: you might want to use a lambda function.)\n",
    "\n",
    "loss_Xy = lambda w: loss_function(w, X, y)\n",
    "gradient_Xy = lambda w: gradient(w, X, y)\n"
   ]
  },
  {
   "cell_type": "code",
   "execution_count": 16,
   "metadata": {},
   "outputs": [],
   "source": [
    "# Perform gradient descent on your loss function, \n",
    "# w, history = simpleGD(...\n",
    "# w = np.zeros(2)    # in case step size is too large and loss explodes\n",
    "w, history = simpleGD(w, loss_Xy, gradient_Xy, 1e-6, 1000)\n"
   ]
  },
  {
   "cell_type": "markdown",
   "metadata": {},
   "source": [
    "##### Step 6: Optimisation Diagnostics\n",
    "Plot the history of your loss over your iterates. \n",
    "* Does it decrease or increase? \n",
    "    * If increasing, reset your $w$ and optimize again with a smaller step size.\n",
    "    * If this doesn't fix the issue, you may have a bug in your code.\n",
    "* How quickly does it decrease?\n",
    "* Does it look like it's converging?\n",
    "* [**Question**] How might you speed up the convergence?\n",
    "\n",
    "Hint: be *very* careful when increasing the step size!"
   ]
  },
  {
   "cell_type": "code",
   "execution_count": 17,
   "metadata": {},
   "outputs": [
    {
     "data": {
      "text/plain": [
       "[<matplotlib.lines.Line2D at 0x11efdd750>]"
      ]
     },
     "execution_count": 17,
     "metadata": {},
     "output_type": "execute_result"
    },
    {
     "data": {
      "image/png": "[encoded data removed]",
      "text/plain": [
       "<Figure size 432x288 with 1 Axes>"
      ]
     },
     "metadata": {
      "needs_background": "light"
     },
     "output_type": "display_data"
    }
   ],
   "source": [
    "plt.plot(history)\n"
   ]
  },
  {
   "cell_type": "markdown",
   "metadata": {},
   "source": [
    "##### Step 7: Review the model fit\n",
    "Plot your predictions against the data.\n",
    "\n",
    "* Create a scatterplot of the original data points (see above for an example).\n",
    "* Using the below function, draw the regression fit.\n",
    "* How well does the regression line fit the data?\n",
    "* Is this a problem with the optimisation or the model? Try performing a few '000s more iterations."
   ]
  },
  {
   "cell_type": "code",
   "execution_count": 18,
   "metadata": {},
   "outputs": [
    {
     "data": {
      "image/png": "[encoded data removed]",
      "text/plain": [
       "<Figure size 432x288 with 1 Axes>"
      ]
     },
     "metadata": {
      "needs_background": "light"
     },
     "output_type": "display_data"
    }
   ],
   "source": [
    "plt.scatter(x, y)\n",
    "plot_abline(w[1], w[0], '--', color='red')\n",
    "# plot_regression_line(w)\n"
   ]
  },
  {
   "cell_type": "markdown",
   "metadata": {},
   "source": [
    "All being well, you should have a line fitting your data reasonably well. If so, congratulations, you've coded up your first machine learning algorithm!\n",
    "\n",
    "Notice that while we've applied this algorithm to a 2D dataset, in principle it can be applied to a dataset of any dimension. If you have time, consider trying again with the data generated from:\n",
    "\n",
    "```python\n",
    "np.random.seed(3)\n",
    "x, y = lrutils.generate_data3d(200)\n",
    "```\n",
    "Be aware that your `x` variable now has *two* columns."
   ]
  }
 ],
 "metadata": {
  "kernelspec": {
   "display_name": "Python 3",
   "language": "python",
   "name": "python3"
  },
  "language_info": {
   "codemirror_mode": {
    "name": "ipython",
    "version": 3
   },
   "file_extension": ".py",
   "mimetype": "text/x-python",
   "name": "python",
   "nbconvert_exporter": "python",
   "pygments_lexer": "ipython3",
   "version": "3.7.4"
  }
 },
 "nbformat": 4,
 "nbformat_minor": 2
}
